{
 "cells": [
  {
   "cell_type": "code",
   "execution_count": 184,
   "id": "sonic-letter",
   "metadata": {},
   "outputs": [],
   "source": [
    "import numpy as np\n",
    "from matplotlib import pyplot as plt\n",
    "import seaborn\n",
    "from random import random\n",
    "from sklearn.linear_model import LinearRegression"
   ]
  },
  {
   "cell_type": "code",
   "execution_count": 185,
   "id": "prepared-basket",
   "metadata": {},
   "outputs": [],
   "source": [
    "x = np.array(list(range(0,100))).reshape(-1,1)"
   ]
  },
  {
   "cell_type": "code",
   "execution_count": 186,
   "id": "retained-number",
   "metadata": {},
   "outputs": [],
   "source": [
    "y = np.array([(random())*i + 1 + random()*10 + 2 for i in x]).reshape(-1,1)"
   ]
  },
  {
   "cell_type": "code",
   "execution_count": 187,
   "id": "surprising-validation",
   "metadata": {},
   "outputs": [
    {
     "data": {
      "text/plain": [
       "<matplotlib.collections.PathCollection at 0x1ab88cca2b0>"
      ]
     },
     "execution_count": 187,
     "metadata": {},
     "output_type": "execute_result"
    },
    {
     "data": {
      "image/png": "[encoded data removed]",
      "text/plain": [
       "<Figure size 432x288 with 1 Axes>"
      ]
     },
     "metadata": {
      "needs_background": "light"
     },
     "output_type": "display_data"
    }
   ],
   "source": [
    "plt.scatter(x,y)"
   ]
  },
  {
   "cell_type": "code",
   "execution_count": 188,
   "id": "muslim-ottawa",
   "metadata": {},
   "outputs": [
    {
     "data": {
      "text/plain": [
       "LinearRegression()"
      ]
     },
     "execution_count": 188,
     "metadata": {},
     "output_type": "execute_result"
    }
   ],
   "source": [
    "model = LinearRegression()\n",
    "model.fit(x,y)"
   ]
  },
  {
   "cell_type": "code",
   "execution_count": 189,
   "id": "numerous-restriction",
   "metadata": {},
   "outputs": [
    {
     "data": {
      "text/plain": [
       "0.4738477925715961"
      ]
     },
     "execution_count": 189,
     "metadata": {},
     "output_type": "execute_result"
    }
   ],
   "source": [
    "model.coef_[0][0]"
   ]
  },
  {
   "cell_type": "code",
   "execution_count": 190,
   "id": "vital-increase",
   "metadata": {},
   "outputs": [
    {
     "data": {
      "text/plain": [
       "array([9.80764144])"
      ]
     },
     "execution_count": 190,
     "metadata": {},
     "output_type": "execute_result"
    }
   ],
   "source": [
    "model.intercept_"
   ]
  },
  {
   "cell_type": "code",
   "execution_count": 200,
   "id": "ecological-drill",
   "metadata": {},
   "outputs": [
    {
     "data": {
      "text/plain": [
       "<matplotlib.collections.PathCollection at 0x1ab88d3c100>"
      ]
     },
     "execution_count": 200,
     "metadata": {},
     "output_type": "execute_result"
    },
    {
     "data": {
      "image/png": "[encoded data removed]",
      "text/plain": [
       "<Figure size 432x288 with 1 Axes>"
      ]
     },
     "metadata": {
      "needs_background": "light"
     },
     "output_type": "display_data"
    }
   ],
   "source": [
    "plt.plot(x,model.coef_ * x + model.intercept_)\n",
    "plt.scatter(x,y)"
   ]
  },
  {
   "cell_type": "code",
   "execution_count": null,
   "id": "finnish-awareness",
   "metadata": {},
   "outputs": [],
   "source": []
  },
  {
   "cell_type": "code",
   "execution_count": 192,
   "id": "rubber-russian",
   "metadata": {
    "scrolled": true
   },
   "outputs": [
    {
     "data": {
      "text/plain": [
       "33.263107167415605"
      ]
     },
     "execution_count": 192,
     "metadata": {},
     "output_type": "execute_result"
    }
   ],
   "source": [
    "sumY = np.sum(y)\n",
    "averageY = sumY / len(y)\n",
    "averageY"
   ]
  },
  {
   "cell_type": "markdown",
   "id": "specified-canberra",
   "metadata": {},
   "source": [
    "squared residuals = distance between every y point and avarage of all y point"
   ]
  },
  {
   "cell_type": "markdown",
   "id": "coastal-syndicate",
   "metadata": {},
   "source": [
    "SS(mean) = (data-mean) ** 2 sum of squares around the mean"
   ]
  },
  {
   "cell_type": "markdown",
   "id": "tough-centre",
   "metadata": {},
   "source": [
    "Var(mean) = (data-mean) ** 2 / n variation around the mean"
   ]
  },
  {
   "cell_type": "markdown",
   "id": "british-chain",
   "metadata": {},
   "source": [
    "R^2 tells us how much the variation in y can be explained by taking x into account\n",
    "R^2 = [ Var(mean) - Var(fit) ] / Var(mean)"
   ]
  },
  {
   "cell_type": "code",
   "execution_count": 193,
   "id": "intended-shape",
   "metadata": {},
   "outputs": [
    {
     "data": {
      "text/plain": [
       "539.7962484418154"
      ]
     },
     "execution_count": 193,
     "metadata": {},
     "output_type": "execute_result"
    }
   ],
   "source": [
    "sum_squared_residuals = 0\n",
    "for i in y.flatten():\n",
    "    sum_squared_residuals += ((i - averageY) ** 2)\n",
    "var_around_mean = sum_squared_residuals / len(y.flatten())\n",
    "var_around_mean \n",
    "    "
   ]
  },
  {
   "cell_type": "code",
   "execution_count": 194,
   "id": "owned-percentage",
   "metadata": {},
   "outputs": [
    {
     "data": {
      "text/plain": [
       "352.70518398188045"
      ]
     },
     "execution_count": 194,
     "metadata": {},
     "output_type": "execute_result"
    }
   ],
   "source": [
    "SS_fit = 0\n",
    "for index,i in enumerate(y.flatten()):\n",
    "    SS_fit += (i - (index * model.coef_[0][0] + model.intercept_[0])) ** 2\n",
    "var_around_fit = SS_fit / len(y.flatten())\n",
    "var_around_fit\n",
    "    "
   ]
  },
  {
   "cell_type": "code",
   "execution_count": 195,
   "id": "dynamic-wholesale",
   "metadata": {},
   "outputs": [
    {
     "data": {
      "text/plain": [
       "0.34659571088164287"
      ]
     },
     "execution_count": 195,
     "metadata": {},
     "output_type": "execute_result"
    }
   ],
   "source": [
    "R2 = (var_around_mean - var_around_fit) / var_around_mean\n",
    "R2"
   ]
  },
  {
   "cell_type": "code",
   "execution_count": 196,
   "id": "sitting-brunswick",
   "metadata": {},
   "outputs": [],
   "source": [
    "y_pred = np.array([i * model.coef_[0][0] + model.intercept_[0] for i in x])"
   ]
  },
  {
   "cell_type": "code",
   "execution_count": 197,
   "id": "dying-identifier",
   "metadata": {},
   "outputs": [],
   "source": [
    "from sklearn.metrics import r2_score\n",
    "score = r2_score(y,y_pred, multioutput = 'variance_weighted')"
   ]
  },
  {
   "cell_type": "code",
   "execution_count": 198,
   "id": "continuing-prison",
   "metadata": {},
   "outputs": [
    {
     "data": {
      "text/plain": [
       "0.34659571088164265"
      ]
     },
     "execution_count": 198,
     "metadata": {},
     "output_type": "execute_result"
    }
   ],
   "source": [
    "score"
   ]
  },
  {
   "cell_type": "code",
   "execution_count": 199,
   "id": "attempted-cleaning",
   "metadata": {},
   "outputs": [
    {
     "data": {
      "text/plain": [
       "0.34659571088164265"
      ]
     },
     "execution_count": 199,
     "metadata": {},
     "output_type": "execute_result"
    }
   ],
   "source": [
    "model.score(x,y)"
   ]
  }
 ],
 "metadata": {
  "kernelspec": {
   "display_name": "Python 3",
   "language": "python",
   "name": "python3"
  },
  "language_info": {
   "codemirror_mode": {
    "name": "ipython",
    "version": 3
   },
   "file_extension": ".py",
   "mimetype": "text/x-python",
   "name": "python",
   "nbconvert_exporter": "python",
   "pygments_lexer": "ipython3",
   "version": "3.8.0"
  }
 },
 "nbformat": 4,
 "nbformat_minor": 5
}
