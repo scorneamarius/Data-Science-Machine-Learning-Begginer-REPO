{
 "cells": [
  {
   "cell_type": "code",
   "execution_count": 1,
   "id": "surprised-brook",
   "metadata": {},
   "outputs": [],
   "source": [
    "import tensorflow\n",
    "from tensorflow import keras\n",
    "from matplotlib import pyplot as plt\n",
    "import numpy as np\n",
    "import cv2\n",
    "from tensorflow.keras import layers\n",
    "import imutils"
   ]
  },
  {
   "cell_type": "markdown",
   "id": "spanish-neighbor",
   "metadata": {},
   "source": [
    "### Import the dataset"
   ]
  },
  {
   "cell_type": "code",
   "execution_count": 2,
   "id": "destroyed-wisdom",
   "metadata": {},
   "outputs": [],
   "source": [
    "(x_train, y_train), (x_test, y_test) = keras.datasets.mnist.load_data()"
   ]
  },
  {
   "cell_type": "code",
   "execution_count": 4,
   "id": "solved-number",
   "metadata": {},
   "outputs": [
    {
     "data": {
      "text/plain": [
       "(60000, 28, 28)"
      ]
     },
     "execution_count": 4,
     "metadata": {},
     "output_type": "execute_result"
    }
   ],
   "source": [
    "x_train.shape"
   ]
  },
  {
   "cell_type": "markdown",
   "id": "middle-andorra",
   "metadata": {},
   "source": [
    "### Convert our samples in float32"
   ]
  },
  {
   "cell_type": "code",
   "execution_count": 3,
   "id": "hollow-entrepreneur",
   "metadata": {},
   "outputs": [],
   "source": [
    "x_train = x_train.astype(np.float32)\n",
    "x_test = x_test.astype(np.float32)"
   ]
  },
  {
   "cell_type": "markdown",
   "id": "committed-imperial",
   "metadata": {},
   "source": [
    "### Plot one sample"
   ]
  },
  {
   "cell_type": "code",
   "execution_count": 63,
   "id": "magnetic-luther",
   "metadata": {
    "scrolled": true
   },
   "outputs": [
    {
     "data": {
      "text/plain": [
       "<matplotlib.image.AxesImage at 0x1e321f08bb0>"
      ]
     },
     "execution_count": 63,
     "metadata": {},
     "output_type": "execute_result"
    },
    {
     "data": {
      "image/png": "[encoded data removed]",
      "text/plain": [
       "<Figure size 432x288 with 1 Axes>"
      ]
     },
     "metadata": {
      "needs_background": "light"
     },
     "output_type": "display_data"
    }
   ],
   "source": [
    "plt.imshow(x_test[3], cmap = 'gray')"
   ]
  },
  {
   "cell_type": "markdown",
   "id": "cubic-remark",
   "metadata": {},
   "source": [
    "### Build the model"
   ]
  },
  {
   "cell_type": "code",
   "execution_count": 87,
   "id": "incoming-forge",
   "metadata": {},
   "outputs": [],
   "source": [
    "model = keras.Sequential()"
   ]
  },
  {
   "cell_type": "code",
   "execution_count": 88,
   "id": "growing-pleasure",
   "metadata": {},
   "outputs": [],
   "source": [
    "layer1 = layers.Conv2D(filters = 32, kernel_size = (5,5), activation ='relu', input_shape = (28,28,1))\n",
    "layer2 = layers.MaxPooling2D(pool_size = (2,2))\n",
    "layer3 = layers.Conv2D(filters = 16, kernel_size = (5,5), activation ='relu')\n",
    "layer4 = layers.MaxPooling2D(pool_size = (2,2))\n",
    "layer5 = layers.Flatten()\n",
    "layer6 = layers.Dropout(0.5)\n",
    "layer7 = layers.Dense(units = 10, activation = 'softmax')"
   ]
  },
  {
   "cell_type": "code",
   "execution_count": 89,
   "id": "numerical-company",
   "metadata": {},
   "outputs": [],
   "source": [
    "list_layers = [layer1, layer2, layer3, layer4, layer5, layer6, layer7]"
   ]
  },
  {
   "cell_type": "code",
   "execution_count": 90,
   "id": "final-chicken",
   "metadata": {},
   "outputs": [],
   "source": [
    "for layer in list_layers:\n",
    "    model.add(layer)"
   ]
  },
  {
   "cell_type": "code",
   "execution_count": 91,
   "id": "disabled-medium",
   "metadata": {},
   "outputs": [
    {
     "data": {
      "text/plain": [
       "[<tensorflow.python.keras.layers.convolutional.Conv2D at 0x1e324db0220>,\n",
       " <tensorflow.python.keras.layers.pooling.MaxPooling2D at 0x1e324db0190>,\n",
       " <tensorflow.python.keras.layers.convolutional.Conv2D at 0x1e324db01f0>,\n",
       " <tensorflow.python.keras.layers.pooling.MaxPooling2D at 0x1e324db01c0>,\n",
       " <tensorflow.python.keras.layers.core.Flatten at 0x1e324db0a30>,\n",
       " <tensorflow.python.keras.layers.core.Dropout at 0x1e324db06d0>,\n",
       " <tensorflow.python.keras.layers.core.Dense at 0x1e324db0e20>]"
      ]
     },
     "execution_count": 91,
     "metadata": {},
     "output_type": "execute_result"
    }
   ],
   "source": [
    "model.layers"
   ]
  },
  {
   "cell_type": "code",
   "execution_count": 92,
   "id": "developed-standard",
   "metadata": {},
   "outputs": [
    {
     "name": "stdout",
     "output_type": "stream",
     "text": [
      "Model: \"sequential_4\"\n",
      "_________________________________________________________________\n",
      "Layer (type)                 Output Shape              Param #   \n",
      "=================================================================\n",
      "conv2d_11 (Conv2D)           (None, 24, 24, 32)        832       \n",
      "_________________________________________________________________\n",
      "max_pooling2d_10 (MaxPooling (None, 12, 12, 32)        0         \n",
      "_________________________________________________________________\n",
      "conv2d_12 (Conv2D)           (None, 8, 8, 16)          12816     \n",
      "_________________________________________________________________\n",
      "max_pooling2d_11 (MaxPooling (None, 4, 4, 16)          0         \n",
      "_________________________________________________________________\n",
      "flatten_5 (Flatten)          (None, 256)               0         \n",
      "_________________________________________________________________\n",
      "dropout_4 (Dropout)          (None, 256)               0         \n",
      "_________________________________________________________________\n",
      "dense_9 (Dense)              (None, 10)                2570      \n",
      "=================================================================\n",
      "Total params: 16,218\n",
      "Trainable params: 16,218\n",
      "Non-trainable params: 0\n",
      "_________________________________________________________________\n"
     ]
    }
   ],
   "source": [
    "model.summary()"
   ]
  },
  {
   "cell_type": "code",
   "execution_count": 95,
   "id": "agreed-straight",
   "metadata": {},
   "outputs": [],
   "source": [
    "optimizer = keras.optimizers.Adam(learning_rate = 0.0001)\n",
    "model.compile(loss = 'sparse_categorical_crossentropy', optimizer = optimizer, metrics='accuracy')"
   ]
  },
  {
   "cell_type": "markdown",
   "id": "painful-kidney",
   "metadata": {},
   "source": [
    "### Reshape and scale our samples"
   ]
  },
  {
   "cell_type": "code",
   "execution_count": null,
   "id": "respiratory-desktop",
   "metadata": {},
   "outputs": [],
   "source": [
    "x_train = np.reshape(x_train (60000,28,28,1)) / 255\n",
    "x_test = np.reshape(x_test,(10000,28,28,1)) / 255"
   ]
  },
  {
   "cell_type": "markdown",
   "id": "southwest-fever",
   "metadata": {},
   "source": [
    "### Train model"
   ]
  },
  {
   "cell_type": "code",
   "execution_count": 96,
   "id": "played-service",
   "metadata": {
    "scrolled": false
   },
   "outputs": [
    {
     "name": "stdout",
     "output_type": "stream",
     "text": [
      "Epoch 1/30\n",
      "1875/1875 [==============================] - 24s 12ms/step - loss: 1.4991 - accuracy: 0.5027\n",
      "Epoch 2/30\n",
      "1875/1875 [==============================] - 23s 12ms/step - loss: 0.4508 - accuracy: 0.8603\n",
      "Epoch 3/30\n",
      "1875/1875 [==============================] - 23s 12ms/step - loss: 0.3062 - accuracy: 0.9044\n",
      "Epoch 4/30\n",
      "1875/1875 [==============================] - 23s 12ms/step - loss: 0.2540 - accuracy: 0.9206\n",
      "Epoch 5/30\n",
      "1875/1875 [==============================] - 23s 12ms/step - loss: 0.2097 - accuracy: 0.9365\n",
      "Epoch 6/30\n",
      "1875/1875 [==============================] - 23s 12ms/step - loss: 0.1866 - accuracy: 0.9434\n",
      "Epoch 7/30\n",
      "1875/1875 [==============================] - 23s 12ms/step - loss: 0.1682 - accuracy: 0.9481\n",
      "Epoch 8/30\n",
      "1875/1875 [==============================] - 23s 12ms/step - loss: 0.1537 - accuracy: 0.9531\n",
      "Epoch 9/30\n",
      "1875/1875 [==============================] - 23s 12ms/step - loss: 0.1416 - accuracy: 0.9569\n",
      "Epoch 10/30\n",
      "1875/1875 [==============================] - 23s 12ms/step - loss: 0.1343 - accuracy: 0.9615\n",
      "Epoch 11/30\n",
      "1875/1875 [==============================] - 24s 13ms/step - loss: 0.1272 - accuracy: 0.9615\n",
      "Epoch 12/30\n",
      "1875/1875 [==============================] - 23s 13ms/step - loss: 0.1204 - accuracy: 0.9629\n",
      "Epoch 13/30\n",
      "1875/1875 [==============================] - 23s 12ms/step - loss: 0.1137 - accuracy: 0.9649\n",
      "Epoch 14/30\n",
      "1875/1875 [==============================] - 23s 12ms/step - loss: 0.1047 - accuracy: 0.9680\n",
      "Epoch 15/30\n",
      "1875/1875 [==============================] - 23s 12ms/step - loss: 0.1053 - accuracy: 0.9680\n",
      "Epoch 16/30\n",
      "1875/1875 [==============================] - 23s 12ms/step - loss: 0.1001 - accuracy: 0.9701\n",
      "Epoch 17/30\n",
      "1875/1875 [==============================] - 23s 12ms/step - loss: 0.0942 - accuracy: 0.9705\n",
      "Epoch 18/30\n",
      "1875/1875 [==============================] - 24s 13ms/step - loss: 0.0930 - accuracy: 0.9721\n",
      "Epoch 19/30\n",
      "1875/1875 [==============================] - 23s 12ms/step - loss: 0.0932 - accuracy: 0.9712\n",
      "Epoch 20/30\n",
      "1875/1875 [==============================] - 23s 12ms/step - loss: 0.0888 - accuracy: 0.9727\n",
      "Epoch 21/30\n",
      "1875/1875 [==============================] - 23s 12ms/step - loss: 0.0875 - accuracy: 0.9732\n",
      "Epoch 22/30\n",
      "1875/1875 [==============================] - 23s 12ms/step - loss: 0.0840 - accuracy: 0.9745\n",
      "Epoch 23/30\n",
      "1875/1875 [==============================] - 24s 13ms/step - loss: 0.0833 - accuracy: 0.9742\n",
      "Epoch 24/30\n",
      "1875/1875 [==============================] - 23s 12ms/step - loss: 0.0789 - accuracy: 0.9755\n",
      "Epoch 25/30\n",
      "1875/1875 [==============================] - 23s 12ms/step - loss: 0.0776 - accuracy: 0.9758\n",
      "Epoch 26/30\n",
      "1875/1875 [==============================] - 23s 12ms/step - loss: 0.0819 - accuracy: 0.9756\n",
      "Epoch 27/30\n",
      "1875/1875 [==============================] - 23s 12ms/step - loss: 0.0743 - accuracy: 0.9771\n",
      "Epoch 28/30\n",
      "1875/1875 [==============================] - 23s 12ms/step - loss: 0.0778 - accuracy: 0.9753\n",
      "Epoch 29/30\n",
      "1875/1875 [==============================] - 24s 13ms/step - loss: 0.0756 - accuracy: 0.9760\n",
      "Epoch 30/30\n",
      "1875/1875 [==============================] - 23s 12ms/step - loss: 0.0739 - accuracy: 0.9772\n"
     ]
    },
    {
     "data": {
      "text/plain": [
       "<tensorflow.python.keras.callbacks.History at 0x1e325026940>"
      ]
     },
     "execution_count": 96,
     "metadata": {},
     "output_type": "execute_result"
    }
   ],
   "source": [
    "model.fit(x_train, y_train, epochs =30)"
   ]
  },
  {
   "cell_type": "markdown",
   "id": "freelance-techno",
   "metadata": {},
   "source": [
    "### Save model"
   ]
  },
  {
   "cell_type": "code",
   "execution_count": 97,
   "id": "irish-canon",
   "metadata": {},
   "outputs": [
    {
     "name": "stdout",
     "output_type": "stream",
     "text": [
      "INFO:tensorflow:Assets written to: my_model\\assets\n"
     ]
    }
   ],
   "source": [
    "model.save(\"my_model\")"
   ]
  },
  {
   "cell_type": "markdown",
   "id": "strategic-reproduction",
   "metadata": {},
   "source": [
    "### Load model"
   ]
  },
  {
   "cell_type": "code",
   "execution_count": 5,
   "id": "congressional-quilt",
   "metadata": {},
   "outputs": [],
   "source": [
    "model = keras.models.load_model('my_model')"
   ]
  },
  {
   "cell_type": "markdown",
   "id": "judicial-worker",
   "metadata": {},
   "source": [
    "### Evaluate model"
   ]
  },
  {
   "cell_type": "code",
   "execution_count": 11,
   "id": "exceptional-louisiana",
   "metadata": {
    "scrolled": true
   },
   "outputs": [
    {
     "name": "stdout",
     "output_type": "stream",
     "text": [
      "313/313 [==============================] - 3s 8ms/step - loss: 0.0346 - accuracy: 0.9890\n"
     ]
    },
    {
     "data": {
      "text/plain": [
       "[0.03464227914810181, 0.9890000224113464]"
      ]
     },
     "execution_count": 11,
     "metadata": {},
     "output_type": "execute_result"
    }
   ],
   "source": [
    "model.evaluate(x_test, y_test)"
   ]
  },
  {
   "cell_type": "markdown",
   "id": "periodic-wrist",
   "metadata": {},
   "source": [
    "### Divide each digits and build image for everyone"
   ]
  },
  {
   "cell_type": "code",
   "execution_count": 6,
   "id": "generous-terrorist",
   "metadata": {},
   "outputs": [],
   "source": [
    "def separate_digits(image):\n",
    "    _,img_thresholded = cv2.threshold(image,100,255,cv2.THRESH_BINARY_INV) # reverse black with white\n",
    "    kernel = np.ones((3,3),'uint8')/3\n",
    "    img_dilated = cv2.dilate(img_thresholded, kernel, iterations=2) # highlight the contour\n",
    "    cnts = cv2.findContours(img_dilated.copy(),cv2.RETR_EXTERNAL,cv2.CHAIN_APPROX_SIMPLE) # find contours\n",
    "    cnts = imutils.grab_contours(cnts)\n",
    "    image_with_each_digit = []\n",
    "    for c in cnts: # iterate every contour\n",
    "        y, x, h, w = cv2.boundingRect(c) # find out the boundingbox coordinates\n",
    "        each_digit = img_dilated[x-10:x+w+10,y-10:y+h+10] # extract each digit\n",
    "        each_digit = cv2.resize(each_digit,(28,28)) # resize for input to model\n",
    "        _, each_digit = cv2.threshold(each_digit,170,255,cv2.THRESH_BINARY) # all white pixels must have 255 px value\n",
    "        image_with_each_digit.append(np.reshape(each_digit,(28,28,1)) / 255) #  reshape, scale and append to our digits list\n",
    "    return np.array(image_with_each_digit) # our list contains each digit image\n",
    "        \n",
    "    "
   ]
  },
  {
   "cell_type": "markdown",
   "id": "banned-breed",
   "metadata": {},
   "source": [
    "### Predicti label for each digit"
   ]
  },
  {
   "cell_type": "code",
   "execution_count": 8,
   "id": "formed-marketplace",
   "metadata": {},
   "outputs": [],
   "source": [
    "def predict_label(images):\n",
    "    labels =[]\n",
    "    result = model.predict(images)\n",
    "    for i in result:\n",
    "        labels.append(np.argmax(i))\n",
    "    full_image = cv2.hconcat(images)\n",
    "    print(labels)\n",
    "    plt.imshow(full_image, cmap = 'gray')    "
   ]
  },
  {
   "cell_type": "code",
   "execution_count": 10,
   "id": "increasing-joining",
   "metadata": {},
   "outputs": [
    {
     "data": {
      "text/plain": [
       "<matplotlib.image.AxesImage at 0x1771d65aee0>"
      ]
     },
     "execution_count": 10,
     "metadata": {},
     "output_type": "execute_result"
    },
    {
     "data": {
      "image/png": "[encoded data removed]",
      "text/plain": [
       "<Figure size 432x288 with 1 Axes>"
      ]
     },
     "metadata": {
      "needs_background": "light"
     },
     "output_type": "display_data"
    }
   ],
   "source": [
    "image = cv2.imread('alldigits2.png',0)\n",
    "plt.imshow(image, cmap = 'gray')"
   ]
  },
  {
   "cell_type": "code",
   "execution_count": 11,
   "id": "crucial-village",
   "metadata": {},
   "outputs": [
    {
     "name": "stdout",
     "output_type": "stream",
     "text": [
      "[0, 0, 7, 7, 8, 2, 8, 1, 1, 2, 5, 4, 5, 3]\n"
     ]
    },
    {
     "data": {
      "image/png": "[encoded data removed]",
      "text/plain": [
       "<Figure size 432x288 with 1 Axes>"
      ]
     },
     "metadata": {
      "needs_background": "light"
     },
     "output_type": "display_data"
    }
   ],
   "source": [
    "images = separate_digits(image)\n",
    "predict_label(images)"
   ]
  }
 ],
 "metadata": {
  "kernelspec": {
   "display_name": "Python 3",
   "language": "python",
   "name": "python3"
  },
  "language_info": {
   "codemirror_mode": {
    "name": "ipython",
    "version": 3
   },
   "file_extension": ".py",
   "mimetype": "text/x-python",
   "name": "python",
   "nbconvert_exporter": "python",
   "pygments_lexer": "ipython3",
   "version": "3.8.0"
  }
 },
 "nbformat": 4,
 "nbformat_minor": 5
}
